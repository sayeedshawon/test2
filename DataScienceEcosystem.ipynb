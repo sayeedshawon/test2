{
 "cells": [
  {
   "cell_type": "markdown",
   "id": "b223b0a3-61fe-4d06-8479-3abf053c9da5",
   "metadata": {},
   "source": [
    "# Data Science Tools and Ecosystem"
   ]
  },
  {
   "cell_type": "markdown",
   "id": "308900a5-ab31-418f-9e48-cd310765d679",
   "metadata": {},
   "source": [
    "### Introduction\n",
    "---\n",
    "\n",
    "In this notebook, Data Science Tools and Ecosystem are summarized."
   ]
  },
  {
   "cell_type": "markdown",
   "id": "2d8586e4-b936-409b-8169-02b44abb0f96",
   "metadata": {},
   "source": [
    "Some of the popular languages that Data Scientists use are:\n",
    "\n",
    "1. **Python**\n",
    "2. **R**\n",
    "3. **SQL**\n",
    "4. **Java**\n",
    "5. **Scala**\n",
    "6. **Julia**\n",
    "\n",
    "Some of the commonly used libraries used by Data Scientists include:\n",
    "\n",
    "1. **Pandas**\n",
    "2. **NumPy**\n",
    "3. **Matplotlib**\n",
    "4. **Seaborn**\n",
    "5. **scikit-learn**\n",
    "6. **TensorFlow**\n",
    "7. **Keras**\n",
    "8. **NLTK (Natural Language Toolkit)**\n",
    "9. **SciPy**\n",
    "10. **PyTorch**\n"
   ]
  },
  {
   "cell_type": "markdown",
   "id": "e9653162-0165-4075-b83f-8b8dcee0478d",
   "metadata": {},
   "source": [
    "### Data Science Tools\n",
    "---\n",
    "\n",
    "| Data Science Tools        |\n",
    "|---------------------------|\n",
    "| Jupyter Notebook          |\n",
    "| RStudio                   |\n",
    "| Apache Zeppelin           |\n",
    "\n"
   ]
  },
  {
   "cell_type": "markdown",
   "id": "d8a3c98c-c697-4da5-84df-312151c3f047",
   "metadata": {},
   "source": [
    "### Below are a few examples of evaluating arithmetic expressions in Python"
   ]
  },
  {
   "cell_type": "code",
   "execution_count": 1,
   "id": "5264f0e2-fa5a-41ef-aac9-c538cf7b5f91",
   "metadata": {},
   "outputs": [
    {
     "data": {
      "text/plain": [
       "17"
      ]
     },
     "execution_count": 1,
     "metadata": {},
     "output_type": "execute_result"
    }
   ],
   "source": [
    "# This a simple arithmetic expression to mutiply then add integer\n",
    "\n",
    "(3*4)+5"
   ]
  },
  {
   "cell_type": "code",
   "execution_count": 7,
   "id": "a09224b3-ffb0-4cc7-8ca7-bcafdca9bf6e",
   "metadata": {},
   "outputs": [
    {
     "name": "stdin",
     "output_type": "stream",
     "text": [
      "Provide the minutes to convert in hours:  200\n"
     ]
    },
    {
     "data": {
      "text/plain": [
       "3.3333333333333335"
      ]
     },
     "execution_count": 7,
     "metadata": {},
     "output_type": "execute_result"
    }
   ],
   "source": [
    "# This will convert 200 minutes to hours by diving by 60\n",
    "# It will also convert any minutes to hours\n",
    "\n",
    "def mins2hrs():\n",
    "    mins = float(input('Provide the minutes to convert in hours: '))\n",
    "    hrs = mins/60.0\n",
    "\n",
    "    return hrs\n",
    "\n",
    "mins2hrs()\n"
   ]
  },
  {
   "cell_type": "markdown",
   "id": "f69e891e-a36e-4063-9d63-d4a3dfcb5c4f",
   "metadata": {},
   "source": [
    "**Objective**\n",
    "\n",
    "List of popular languages for Data Science (`unordered list`)\n",
    "\n",
    "- Python\n",
    "- R\n",
    "- SQL\n",
    "- Java\n",
    "- Scala"
   ]
  },
  {
   "cell_type": "markdown",
   "id": "4ed4094e-c9b4-4984-95d4-7d646db009c4",
   "metadata": {
    "jp-MarkdownHeadingCollapsed": true
   },
   "source": [
    "## Author\n",
    "---\n",
    "Chihiro"
   ]
  }
 ],
 "metadata": {
  "kernelspec": {
   "display_name": "Python 3 (ipykernel)",
   "language": "python",
   "name": "python3"
  },
  "language_info": {
   "codemirror_mode": {
    "name": "ipython",
    "version": 3
   },
   "file_extension": ".py",
   "mimetype": "text/x-python",
   "name": "python",
   "nbconvert_exporter": "python",
   "pygments_lexer": "ipython3",
   "version": "3.12.3"
  }
 },
 "nbformat": 4,
 "nbformat_minor": 5
}
